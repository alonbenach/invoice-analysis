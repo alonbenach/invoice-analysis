{
 "cells": [
  {
   "cell_type": "code",
   "execution_count": 7,
   "id": "64b7086f",
   "metadata": {},
   "outputs": [],
   "source": [
    "from pathlib import Path\n",
    "import pandas as pd\n",
    "import numpy as np\n",
    "\n",
    "import chardet, re, io\n",
    "from textwrap import shorten"
   ]
  },
  {
   "cell_type": "code",
   "execution_count": 8,
   "id": "699a651e",
   "metadata": {},
   "outputs": [],
   "source": [
    "OUT_DIR = Path(\"outputs/schema_check\"); OUT_DIR.mkdir(parents=True, exist_ok=True)"
   ]
  },
  {
   "cell_type": "code",
   "execution_count": null,
   "id": "a5b5e61b",
   "metadata": {},
   "outputs": [],
   "source": [
    "CSV_DIR   = Path(\"data/PANPARAGON-1114/PANPARAGON-1114\")  # <-- set this to your folder\n",
    "PARQUET   = Path(\"data/_invoices.parquet\")                # output cache (fast for analysis)\n"
   ]
  },
  {
   "cell_type": "code",
   "execution_count": null,
   "id": "5b8e0bdc",
   "metadata": {},
   "outputs": [],
   "source": []
  }
 ],
 "metadata": {
  "kernelspec": {
   "display_name": "invoices",
   "language": "python",
   "name": "python3"
  },
  "language_info": {
   "codemirror_mode": {
    "name": "ipython",
    "version": 3
   },
   "file_extension": ".py",
   "mimetype": "text/x-python",
   "name": "python",
   "nbconvert_exporter": "python",
   "pygments_lexer": "ipython3",
   "version": "3.10.15"
  }
 },
 "nbformat": 4,
 "nbformat_minor": 5
}
