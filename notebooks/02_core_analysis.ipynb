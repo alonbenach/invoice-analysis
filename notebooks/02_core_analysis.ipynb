{
 "cells": [
  {
   "cell_type": "code",
   "execution_count": null,
   "id": "9f7f80c5",
   "metadata": {},
   "outputs": [
    {
     "name": "stdout",
     "output_type": "stream",
     "text": [
      "Project root: /home/alonbenach/project/invoice-analysis\n"
     ]
    }
   ],
   "source": [
    "# Path bootstrap: make project root + src importable\n",
    "from pathlib import Path\n",
    "import sys\n",
    "\n",
    "PROJECT_ROOT = Path.cwd().parent\n",
    "sys.path.insert(0, str(PROJECT_ROOT))\n",
    "\n",
    "print(\"Project root:\", PROJECT_ROOT)\n"
   ]
  },
  {
   "cell_type": "code",
   "execution_count": null,
   "id": "b7852d49",
   "metadata": {},
   "outputs": [
    {
     "name": "stdout",
     "output_type": "stream",
     "text": [
      "The autoreload extension is already loaded. To reload it, use:\n",
      "  %reload_ext autoreload\n"
     ]
    }
   ],
   "source": [
    "# 1 Imports, constants, dirs\n",
    "from pathlib import Path\n",
    "import pandas as pd\n",
    "import numpy as np\n",
    "import yaml\n",
    "\n",
    "from src.io_utils import list_csvs, read_csv, ensure_dir\n",
    "from src.clean_utils import normalize_columns, cast_basic_types, parse_timestamp, assign_slots\n",
    "from src.fc_map_utils import normalize_text  \n",
    "from src.viz_utils import save_bar, save_hist, save_box\n",
    "\n",
    "%load_ext autoreload\n",
    "%autoreload 2\n",
    "\n",
    "DATA_DIR   = PROJECT_ROOT / \"data\" / \"invoices\"\n",
    "REF_DIR    = PROJECT_ROOT / \"data\" / \"refs\"\n",
    "OUT_DIR    = PROJECT_ROOT / \"outputs_large\" / \"core\"\n",
    "PLOTS      = OUT_DIR / \"plots\"\n",
    "CFG_SLOTS  = PROJECT_ROOT / \"config\" / \"slots.yaml\"\n",
    "\n",
    "ensure_dir(OUT_DIR); ensure_dir(PLOTS)\n",
    "pd.options.display.max_columns = 200\n"
   ]
  },
  {
   "cell_type": "code",
   "execution_count": 35,
   "id": "3f1f38c2",
   "metadata": {},
   "outputs": [
    {
     "name": "stderr",
     "output_type": "stream",
     "text": [
      "/home/alonbenach/project/invoice-analysis/src/clean_utils.py:120: UserWarning: Could not infer format, so each element will be parsed individually, falling back to `dateutil`. To ensure parsing is consistent and as-expected, please specify a format.\n",
      "  return pd.to_datetime(s, errors=\"coerce\").dt.time\n",
      "/home/alonbenach/project/invoice-analysis/src/clean_utils.py:120: FutureWarning: Parsed string \"17:14 LN\" included an un-recognized timezone \"LN\". Dropping unrecognized timezones is deprecated; in a future version this will raise. Instead pass the string without the timezone, then use .tz_localize to convert to a recognized timezone.\n",
      "  return pd.to_datetime(s, errors=\"coerce\").dt.time\n"
     ]
    },
    {
     "data": {
      "text/plain": [
       "(123743,\n",
       "    receipt_id receipt_number purchase_date purchase_time         product_line  \\\n",
       " 0    31006967     nr: 100213    2025-09-01         07:07   KAJZERKA xxl 95g-C   \n",
       " 1    31007786       nr:69912    2025-09-01         08:37  BAGIETKA SZ JAJKO-C   \n",
       " 2    31007821     nr : 76852    2025-09-01         08:57  MLEKO 500g GOSTYN-C   \n",
       " \n",
       "             ean                                       product_name  qty  \\\n",
       " 0           NaN                                                NaN  2.0   \n",
       " 1           NaN                                                NaN  1.0   \n",
       " 2  5.900691e+12  SM Gostyń Mleko gostyńskie zagęszczone lekkie ...  1.0   \n",
       " \n",
       "    unit_price_gross  vat_rate  unit_price_net  discount    cashier  \\\n",
       " 0              0.79       5.0            0.75       NaN  kasjer_22   \n",
       " 1             11.99       5.0           11.42       NaN   kasjer_0   \n",
       " 2              6.99       5.0            6.66       NaN   kasjer_6   \n",
       " \n",
       "   payment_method                        ts hour_minute  slot_id  \\\n",
       " 0           Card 2025-01-09 07:07:00+01:00       07:07      1.0   \n",
       " 1           Card 2025-01-09 08:37:00+01:00       08:37      1.0   \n",
       " 2           Cash 2025-01-09 08:57:00+01:00       08:57      1.0   \n",
       " \n",
       "       slot_label  line_value_gross  \\\n",
       " 0  Going to work              1.58   \n",
       " 1  Going to work             11.99   \n",
       " 2  Going to work              6.99   \n",
       " \n",
       "                                         product_norm  \n",
       " 0                                                nan  \n",
       " 1                                                nan  \n",
       " 2  sm gostyn mleko gostynskie zageszczone lekkie ...  )"
      ]
     },
     "execution_count": 35,
     "metadata": {},
     "output_type": "execute_result"
    }
   ],
   "source": [
    "# 2 Load and prep base dataframe\n",
    "# 2A) Load all invoice shards quickly\n",
    "csvs = list_csvs(DATA_DIR)\n",
    "dfs = [read_csv(p) for p in csvs]\n",
    "df = pd.concat(dfs, ignore_index=True)\n",
    "\n",
    "# 2B) Normalize + cast\n",
    "df = normalize_columns(df)\n",
    "df = cast_basic_types(df)\n",
    "\n",
    "# 2C) Timestamp + slot\n",
    "tz = yaml.safe_load(CFG_SLOTS.read_text())[\"timezone\"]\n",
    "df = parse_timestamp(df, tz)\n",
    "df = assign_slots(df, CFG_SLOTS)\n",
    "\n",
    "# 2D) Convenience columns\n",
    "if \"qty\" in df and \"unit_price_gross\" in df:\n",
    "    df[\"line_value_gross\"] = df[\"qty\"] * df[\"unit_price_gross\"]\n",
    "else:\n",
    "    df[\"line_value_gross\"] = np.nan\n",
    "\n",
    "# 2E) Normalized product key for joins\n",
    "df[\"product_norm\"] = normalize_text(df[\"product_name\"])\n",
    "len(df), df.head(3)\n"
   ]
  },
  {
   "cell_type": "code",
   "execution_count": 36,
   "id": "9bde8c03",
   "metadata": {},
   "outputs": [
    {
     "name": "stderr",
     "output_type": "stream",
     "text": [
      "/tmp/ipykernel_27038/3829240951.py:16: FutureWarning: Downcasting object dtype arrays on .fillna, .ffill, .bfill is deprecated and will change in a future version. Call result.infer_objects(copy=False) instead. To opt-in to the future behavior, set `pd.set_option('future.no_silent_downcasting', True)`\n",
      "  dfj[\"is_fc\"] = dfj[\"is_food_corner_auto\"].fillna(False)\n"
     ]
    },
    {
     "data": {
      "application/vnd.microsoft.datawrangler.viewer.v0+json": {
       "columns": [
        {
         "name": "index",
         "rawType": "int64",
         "type": "integer"
        },
        {
         "name": "receipt_id",
         "rawType": "int64",
         "type": "integer"
        },
        {
         "name": "product_name",
         "rawType": "object",
         "type": "unknown"
        },
        {
         "name": "product_line",
         "rawType": "object",
         "type": "string"
        },
        {
         "name": "is_fc",
         "rawType": "bool",
         "type": "boolean"
        },
        {
         "name": "fc_category",
         "rawType": "object",
         "type": "unknown"
        },
        {
         "name": "slot_label",
         "rawType": "object",
         "type": "string"
        }
       ],
       "ref": "ee2c5cde-c6d6-451d-9f79-098f0da6edab",
       "rows": [
        [
         "0",
         "31006967",
         null,
         "KAJZERKA xxl 95g-C",
         "False",
         null,
         "Going to work"
        ],
        [
         "1",
         "31007786",
         null,
         "BAGIETKA SZ JAJKO-C",
         "False",
         null,
         "Going to work"
        ],
        [
         "2",
         "31007821",
         "SM Gostyń Mleko gostyńskie zagęszczone lekkie 2,5 % 500 g ",
         "MLEKO 500g GOSTYN-C",
         "False",
         null,
         "Going to work"
        ],
        [
         "3",
         "31008328",
         null,
         "BAGIETKA WLOS KURCZ 225g-C",
         "False",
         null,
         "Morning groceries"
        ],
        [
         "4",
         "31008396",
         "Monster Energy Gazowany napój energetyczny 500 ml",
         "NAPOJ MONSTER 0,5l-A",
         "False",
         null,
         "Morning groceries"
        ],
        [
         "5",
         "31008463",
         "Sierpc Ser królewski plastry 135 g",
         "SER KROLEWSKI 135g-C",
         "False",
         null,
         "Morning groceries"
        ],
        [
         "6",
         "31008521",
         null,
         "KUB DO BUB TEA COCO MALIN-B",
         "False",
         null,
         "Morning groceries"
        ],
        [
         "7",
         "31008687",
         null,
         "SUSHI WRAP Z PASTA Z TUNC-C",
         "False",
         null,
         "Morning groceries"
        ],
        [
         "8",
         "31008698",
         null,
         "PEPPERON NA CIEPLO-B",
         "False",
         null,
         "Morning groceries"
        ],
        [
         "9",
         "31008977",
         null,
         "R LOD/NUGGETS 2700-8 RZEDAŻ",
         "False",
         null,
         "Morning groceries"
        ]
       ],
       "shape": {
        "columns": 6,
        "rows": 10
       }
      },
      "text/html": [
       "<div>\n",
       "<style scoped>\n",
       "    .dataframe tbody tr th:only-of-type {\n",
       "        vertical-align: middle;\n",
       "    }\n",
       "\n",
       "    .dataframe tbody tr th {\n",
       "        vertical-align: top;\n",
       "    }\n",
       "\n",
       "    .dataframe thead th {\n",
       "        text-align: right;\n",
       "    }\n",
       "</style>\n",
       "<table border=\"1\" class=\"dataframe\">\n",
       "  <thead>\n",
       "    <tr style=\"text-align: right;\">\n",
       "      <th></th>\n",
       "      <th>receipt_id</th>\n",
       "      <th>product_name</th>\n",
       "      <th>product_line</th>\n",
       "      <th>is_fc</th>\n",
       "      <th>fc_category</th>\n",
       "      <th>slot_label</th>\n",
       "    </tr>\n",
       "  </thead>\n",
       "  <tbody>\n",
       "    <tr>\n",
       "      <th>0</th>\n",
       "      <td>31006967</td>\n",
       "      <td>NaN</td>\n",
       "      <td>KAJZERKA xxl 95g-C</td>\n",
       "      <td>False</td>\n",
       "      <td>&lt;NA&gt;</td>\n",
       "      <td>Going to work</td>\n",
       "    </tr>\n",
       "    <tr>\n",
       "      <th>1</th>\n",
       "      <td>31007786</td>\n",
       "      <td>NaN</td>\n",
       "      <td>BAGIETKA SZ JAJKO-C</td>\n",
       "      <td>False</td>\n",
       "      <td>&lt;NA&gt;</td>\n",
       "      <td>Going to work</td>\n",
       "    </tr>\n",
       "    <tr>\n",
       "      <th>2</th>\n",
       "      <td>31007821</td>\n",
       "      <td>SM Gostyń Mleko gostyńskie zagęszczone lekkie ...</td>\n",
       "      <td>MLEKO 500g GOSTYN-C</td>\n",
       "      <td>False</td>\n",
       "      <td>&lt;NA&gt;</td>\n",
       "      <td>Going to work</td>\n",
       "    </tr>\n",
       "    <tr>\n",
       "      <th>3</th>\n",
       "      <td>31008328</td>\n",
       "      <td>NaN</td>\n",
       "      <td>BAGIETKA WLOS KURCZ 225g-C</td>\n",
       "      <td>False</td>\n",
       "      <td>&lt;NA&gt;</td>\n",
       "      <td>Morning groceries</td>\n",
       "    </tr>\n",
       "    <tr>\n",
       "      <th>4</th>\n",
       "      <td>31008396</td>\n",
       "      <td>Monster Energy Gazowany napój energetyczny 500 ml</td>\n",
       "      <td>NAPOJ MONSTER 0,5l-A</td>\n",
       "      <td>False</td>\n",
       "      <td>&lt;NA&gt;</td>\n",
       "      <td>Morning groceries</td>\n",
       "    </tr>\n",
       "    <tr>\n",
       "      <th>5</th>\n",
       "      <td>31008463</td>\n",
       "      <td>Sierpc Ser królewski plastry 135 g</td>\n",
       "      <td>SER KROLEWSKI 135g-C</td>\n",
       "      <td>False</td>\n",
       "      <td>&lt;NA&gt;</td>\n",
       "      <td>Morning groceries</td>\n",
       "    </tr>\n",
       "    <tr>\n",
       "      <th>6</th>\n",
       "      <td>31008521</td>\n",
       "      <td>NaN</td>\n",
       "      <td>KUB DO BUB TEA COCO MALIN-B</td>\n",
       "      <td>False</td>\n",
       "      <td>&lt;NA&gt;</td>\n",
       "      <td>Morning groceries</td>\n",
       "    </tr>\n",
       "    <tr>\n",
       "      <th>7</th>\n",
       "      <td>31008687</td>\n",
       "      <td>NaN</td>\n",
       "      <td>SUSHI WRAP Z PASTA Z TUNC-C</td>\n",
       "      <td>False</td>\n",
       "      <td>&lt;NA&gt;</td>\n",
       "      <td>Morning groceries</td>\n",
       "    </tr>\n",
       "    <tr>\n",
       "      <th>8</th>\n",
       "      <td>31008698</td>\n",
       "      <td>NaN</td>\n",
       "      <td>PEPPERON NA CIEPLO-B</td>\n",
       "      <td>False</td>\n",
       "      <td>&lt;NA&gt;</td>\n",
       "      <td>Morning groceries</td>\n",
       "    </tr>\n",
       "    <tr>\n",
       "      <th>9</th>\n",
       "      <td>31008977</td>\n",
       "      <td>NaN</td>\n",
       "      <td>R LOD/NUGGETS 2700-8 RZEDAŻ</td>\n",
       "      <td>False</td>\n",
       "      <td>&lt;NA&gt;</td>\n",
       "      <td>Morning groceries</td>\n",
       "    </tr>\n",
       "  </tbody>\n",
       "</table>\n",
       "</div>"
      ],
      "text/plain": [
       "   receipt_id                                       product_name  \\\n",
       "0    31006967                                                NaN   \n",
       "1    31007786                                                NaN   \n",
       "2    31007821  SM Gostyń Mleko gostyńskie zagęszczone lekkie ...   \n",
       "3    31008328                                                NaN   \n",
       "4    31008396  Monster Energy Gazowany napój energetyczny 500 ml   \n",
       "5    31008463                 Sierpc Ser królewski plastry 135 g   \n",
       "6    31008521                                                NaN   \n",
       "7    31008687                                                NaN   \n",
       "8    31008698                                                NaN   \n",
       "9    31008977                                                NaN   \n",
       "\n",
       "                  product_line  is_fc fc_category         slot_label  \n",
       "0           KAJZERKA xxl 95g-C  False        <NA>      Going to work  \n",
       "1          BAGIETKA SZ JAJKO-C  False        <NA>      Going to work  \n",
       "2          MLEKO 500g GOSTYN-C  False        <NA>      Going to work  \n",
       "3   BAGIETKA WLOS KURCZ 225g-C  False        <NA>  Morning groceries  \n",
       "4         NAPOJ MONSTER 0,5l-A  False        <NA>  Morning groceries  \n",
       "5         SER KROLEWSKI 135g-C  False        <NA>  Morning groceries  \n",
       "6  KUB DO BUB TEA COCO MALIN-B  False        <NA>  Morning groceries  \n",
       "7  SUSHI WRAP Z PASTA Z TUNC-C  False        <NA>  Morning groceries  \n",
       "8         PEPPERON NA CIEPLO-B  False        <NA>  Morning groceries  \n",
       "9  R LOD/NUGGETS 2700-8 RZEDAŻ  False        <NA>  Morning groceries  "
      ]
     },
     "execution_count": 36,
     "metadata": {},
     "output_type": "execute_result"
    }
   ],
   "source": [
    "# 3 Load FC mapping and join (line level tagging)\n",
    "# Load the mapping produced in Stage 1\n",
    "MAP_PATH = REF_DIR / \"auto_fc_mapping_from_menu.csv\"\n",
    "mp = pd.read_csv(MAP_PATH)\n",
    "\n",
    "# Normalize key in mapping defensively\n",
    "if \"product_norm\" not in mp.columns:\n",
    "    mp[\"product_norm\"] = normalize_text(mp[\"product_raw\"] if \"product_raw\" in mp.columns else mp[\"product_name\"])\n",
    "\n",
    "mp_small = mp[[\"product_norm\",\"is_food_corner_auto\",\"match_category\",\"best_match_item\",\"score\"]].drop_duplicates(\"product_norm\")\n",
    "\n",
    "# Join to lines\n",
    "dfj = df.merge(mp_small, on=\"product_norm\", how=\"left\")\n",
    "\n",
    "# Final FC flag (bool) and a safe category (FC only)\n",
    "dfj[\"is_fc\"] = dfj[\"is_food_corner_auto\"].fillna(False)\n",
    "dfj[\"fc_category\"] = np.where(dfj[\"is_fc\"], dfj[\"match_category\"], pd.NA)\n",
    "\n",
    "# Basic preview\n",
    "dfj[[\"receipt_id\",\"product_name\",\"product_line\",\"is_fc\",\"fc_category\",\"slot_label\"]].head(10)\n"
   ]
  },
  {
   "cell_type": "code",
   "execution_count": 37,
   "id": "cf4bd066",
   "metadata": {},
   "outputs": [
    {
     "name": "stdout",
     "output_type": "stream",
     "text": [
      "% receipts with any FC: 5.270%\n"
     ]
    }
   ],
   "source": [
    "# 4 Receipt-level aggregations\n",
    "# FC per receipt\n",
    "by_receipt = (dfj.groupby(\"receipt_id\")[\"is_fc\"]\n",
    "                .agg(receipt_has_fc=lambda s: bool(s.any()),\n",
    "                     fc_line_count=\"sum\")\n",
    "                .reset_index())\n",
    "\n",
    "# Overall receipt share with any FC\n",
    "receipt_fc_share = by_receipt[\"receipt_has_fc\"].mean()\n",
    "print(f\"% receipts with any FC: {receipt_fc_share:.3%}\")\n",
    "\n",
    "# Save\n",
    "by_receipt.to_csv(OUT_DIR/\"receipt_fc_summary.csv\", index=False)\n",
    "pd.DataFrame([{\"receipt_fc_share\": float(receipt_fc_share)}]).to_csv(OUT_DIR/\"kpi_receipt_fc_share.csv\", index=False)\n",
    "\n",
    "# Bar gauge\n",
    "save_bar(pd.Series({\"has FC\": receipt_fc_share, \"no FC\": 1-receipt_fc_share}),\n",
    "         \"Receipts containing Food Corner (share)\",\n",
    "         PLOTS/\"receipt_fc_share.png\")\n"
   ]
  },
  {
   "cell_type": "code",
   "execution_count": null,
   "id": "58b33e84",
   "metadata": {},
   "outputs": [
    {
     "data": {
      "text/plain": [
       "'PLOTS saved'"
      ]
     },
     "execution_count": 38,
     "metadata": {},
     "output_type": "execute_result"
    }
   ],
   "source": [
    "# 5 Time KPIs: slot & weekday\n",
    "# Line-level FC share by slot\n",
    "fc_by_slot = (dfj.assign(is_fc=dfj[\"is_fc\"].astype(bool))\n",
    "                .groupby(\"slot_label\")[\"is_fc\"]\n",
    "                .mean().sort_index())\n",
    "fc_by_slot.to_csv(OUT_DIR/\"fc_share_by_slot.csv\", header=[\"fc_share\"])\n",
    "save_bar(fc_by_slot, \"FC share by time slot (line-level)\", PLOTS/\"fc_share_by_slot.png\")\n",
    "\n",
    "# Receipt-level FC presence by slot (any FC on the receipt in that slot)\n",
    "# First, attach slot to receipts (use first item’s slot per receipt as proxy)\n",
    "slot_per_receipt = (dfj.dropna(subset=[\"slot_label\"])\n",
    "                      .groupby(\"receipt_id\")[\"slot_label\"].agg(lambda s: s.iloc[0]))\n",
    "r = by_receipt.join(slot_per_receipt, on=\"receipt_id\")\n",
    "receipt_fc_by_slot = r.groupby(\"slot_label\")[\"receipt_has_fc\"].mean().sort_index()\n",
    "receipt_fc_by_slot.to_csv(OUT_DIR/\"receipt_fc_share_by_slot.csv\", header=[\"receipt_fc_share\"])\n",
    "save_bar(receipt_fc_by_slot, \"Receipts with FC by time slot\", PLOTS/\"receipt_fc_share_by_slot.png\")\n",
    "\n",
    "# Weekday x slot heatmap (line count of FC)\n",
    "weekday_names = [\"Monday\", \"Tuesday\", \"Wednesday\", \"Thursday\", \"Friday\", \"Saturday\", \"Sunday\"]\n",
    "wd = dfj[\"ts\"].dt.weekday\n",
    "dfj[\"weekday\"] = wd.map(lambda x: weekday_names[int(x)] if pd.notna(x) else \"Unknown\")\n",
    "fc_heat = (dfj[dfj[\"is_fc\"]]\n",
    "           .groupby([\"weekday\",\"slot_label\"])\n",
    "           .size().unstack(fill_value=0))\n",
    "\n",
    "# Save CSV\n",
    "fc_heat.to_csv(OUT_DIR/\"fc_count_heatmap_weekday_slot.csv\")\n",
    "\n",
    "# Plot heatmap inline\n",
    "import matplotlib.pyplot as plt\n",
    "fig, ax = plt.subplots(figsize=(10, 6))\n",
    "im = ax.imshow(fc_heat.values, aspect=\"auto\")\n",
    "ax.set_yticks(range(len(fc_heat.index))); ax.set_yticklabels(fc_heat.index)\n",
    "ax.set_xticks(range(len(fc_heat.columns))); ax.set_xticklabels(fc_heat.columns, rotation=45, ha=\"right\")\n",
    "ax.set_title(\"FC line count — weekday × slot\")\n",
    "fig.colorbar(im, ax=ax)\n",
    "plt.tight_layout()\n",
    "plt.savefig(PLOTS/\"fc_count_heatmap_weekday_slot.png\", dpi=150)\n",
    "plt.close(fig)\n",
    "\"PLOTS saved\"\n"
   ]
  },
  {
   "cell_type": "code",
   "execution_count": 39,
   "id": "d97ef2b0",
   "metadata": {},
   "outputs": [
    {
     "data": {
      "text/plain": [
       "(25, 25)"
      ]
     },
     "execution_count": 39,
     "metadata": {},
     "output_type": "execute_result"
    }
   ],
   "source": [
    "# 6 Top FC items (units & value)\n",
    "top_fc_units = (dfj[dfj[\"is_fc\"]]\n",
    "                .groupby([\"best_match_item\",\"fc_category\"], dropna=False)[\"qty\"]\n",
    "                .sum().sort_values(ascending=False).head(25).reset_index(name=\"units\"))\n",
    "top_fc_value = (dfj[dfj[\"is_fc\"]]\n",
    "                .groupby([\"best_match_item\",\"fc_category\"], dropna=False)[\"line_value_gross\"]\n",
    "                .sum().sort_values(ascending=False).head(25).reset_index(name=\"value_gross\"))\n",
    "\n",
    "top_fc_units.to_csv(OUT_DIR/\"top_fc_items_by_units.csv\", index=False)\n",
    "top_fc_value.to_csv(OUT_DIR/\"top_fc_items_by_value.csv\", index=False)\n",
    "\n",
    "# Quick bar plots\n",
    "save_bar(top_fc_units.set_index(\"best_match_item\")[\"units\"][:15],\n",
    "         \"Top FC items by units\", PLOTS/\"top_fc_by_units.png\")\n",
    "save_bar(top_fc_value.set_index(\"best_match_item\")[\"value_gross\"][:15],\n",
    "         \"Top FC items by gross value\", PLOTS/\"top_fc_by_value.png\")\n",
    "\n",
    "len(top_fc_units), len(top_fc_value)\n"
   ]
  },
  {
   "cell_type": "code",
   "execution_count": null,
   "id": "88e8ba31",
   "metadata": {},
   "outputs": [
    {
     "name": "stdout",
     "output_type": "stream",
     "text": [
      "{'receipts_total': 123743, 'receipts_with_fc': 6521, 'receipts_with_both_fc_and_nonfc': 0, 'cop_rows': 0, 'top_lines': 0, 'top_names': 0}\n"
     ]
    }
   ],
   "source": [
    "#7. Co-purchase (what sells *with* FC) - doesn't work atm, under review\n",
    "\n",
    "# Ensure boolean\n",
    "dfj[\"is_fc\"] = dfj[\"is_fc\"].astype(bool)\n",
    "\n",
    "# Per-receipt counts\n",
    "rec = (dfj.groupby(\"receipt_id\")\n",
    "          .agg(total_lines=(\"is_fc\", \"size\"),\n",
    "               fc_lines=(\"is_fc\", \"sum\"))\n",
    "          .assign(nonfc_lines=lambda d: d[\"total_lines\"] - d[\"fc_lines\"])\n",
    "          .reset_index())\n",
    "\n",
    "# Keep only receipts that have BOTH FC and non-FC\n",
    "rec_both = set(rec.loc[(rec[\"fc_lines\"] > 0) & (rec[\"nonfc_lines\"] > 0), \"receipt_id\"])\n",
    "\n",
    "# Subset to those receipts\n",
    "df_both = dfj[dfj[\"receipt_id\"].isin(rec_both)].copy()\n",
    "\n",
    "# Non-FC items on those receipts → companions\n",
    "cop = df_both[~df_both[\"is_fc\"]].copy()\n",
    "\n",
    "# If product_line is missing, label it for grouping\n",
    "cop[\"product_line\"] = cop[\"product_line\"].fillna(\"UNKNOWN\")\n",
    "\n",
    "# Top companions by product_line and by product_name\n",
    "cop_line = (cop.groupby(\"product_line\")[\"qty\"].sum()\n",
    "              .sort_values(ascending=False)\n",
    "              .head(25))\n",
    "cop_name = (cop.groupby(\"product_name\")[\"qty\"].sum()\n",
    "              .sort_values(ascending=False)\n",
    "              .head(25))\n",
    "\n",
    "# Save tables\n",
    "cop_line.to_csv(OUT_DIR/\"copurchase_top_product_lines.csv\", header=[\"qty\"])\n",
    "cop_name.to_csv(OUT_DIR/\"copurchase_top_product_names.csv\", header=[\"qty\"])\n",
    "\n",
    "# Plot only if non-empty (save_bar already guards, but we’ll skip too)\n",
    "if not cop_line.empty:\n",
    "    save_bar(cop_line, \"Co-purchase with FC (by product_line)\", PLOTS/\"copurchase_top_product_lines.png\")\n",
    "if not cop_name.empty:\n",
    "    save_bar(cop_name, \"Co-purchase with FC (by product_name)\", PLOTS/\"copurchase_top_product_names.png\")\n",
    "\n",
    "# Diagnostics printout so we can see counts at a glance\n",
    "print({\n",
    "    \"receipts_total\": int(rec.shape[0]),\n",
    "    \"receipts_with_fc\": int((rec[\"fc_lines\"] > 0).sum()),\n",
    "    \"receipts_with_both_fc_and_nonfc\": int(len(rec_both)),\n",
    "    \"cop_rows\": int(cop.shape[0]),\n",
    "    \"top_lines\": int(cop_line.shape[0]),\n",
    "    \"top_names\": int(cop_name.shape[0]),\n",
    "})\n"
   ]
  },
  {
   "cell_type": "code",
   "execution_count": 41,
   "id": "7db3aacf",
   "metadata": {},
   "outputs": [
    {
     "data": {
      "text/plain": [
       "'value/units shares saved'"
      ]
     },
     "execution_count": 41,
     "metadata": {},
     "output_type": "execute_result"
    }
   ],
   "source": [
    "#8 FC mix by slot and weekday (value & units)\n",
    "# Value share of FC per slot\n",
    "value_by_slot = dfj.groupby(\"slot_label\")[\"line_value_gross\"].sum()\n",
    "value_by_slot_fc = dfj[dfj[\"is_fc\"]].groupby(\"slot_label\")[\"line_value_gross\"].sum()\n",
    "value_share_fc_slot = (value_by_slot_fc / value_by_slot).fillna(0)\n",
    "value_share_fc_slot.to_csv(OUT_DIR/\"value_share_fc_by_slot.csv\", header=[\"fc_value_share\"])\n",
    "save_bar(value_share_fc_slot, \"FC value share by slot\", PLOTS/\"value_share_fc_by_slot.png\")\n",
    "\n",
    "# Units share per weekday\n",
    "units_by_wd = dfj.groupby(\"weekday\")[\"qty\"].sum()\n",
    "units_by_wd_fc = dfj[dfj[\"is_fc\"]].groupby(\"weekday\")[\"qty\"].sum()\n",
    "units_share_fc_wd = (units_by_wd_fc / units_by_wd).fillna(0)\n",
    "units_share_fc_wd = units_share_fc_wd.reindex([\"Monday\",\"Tuesday\",\"Wednesday\",\"Thursday\",\"Friday\",\"Saturday\",\"Sunday\"], fill_value=0)\n",
    "units_share_fc_wd.to_csv(OUT_DIR/\"units_share_fc_by_weekday.csv\", header=[\"fc_units_share\"])\n",
    "save_bar(units_share_fc_wd, \"FC units share by weekday\", PLOTS/\"units_share_fc_by_weekday.png\")\n",
    "\n",
    "\"value/units shares saved\"\n"
   ]
  },
  {
   "cell_type": "code",
   "execution_count": 42,
   "id": "8ccad286",
   "metadata": {},
   "outputs": [
    {
     "data": {
      "text/plain": [
       "'core_slim.parquet saved'"
      ]
     },
     "execution_count": 42,
     "metadata": {},
     "output_type": "execute_result"
    }
   ],
   "source": [
    "# 9 Export a slim analysis parquet for Matias\n",
    "cols = [\"receipt_id\",\"ts\",\"slot_label\",\"weekday\",\n",
    "        \"product_name\",\"product_line\",\"qty\",\"unit_price_gross\",\"line_value_gross\",\n",
    "        \"is_fc\",\"fc_category\",\"best_match_item\",\"score\"]\n",
    "slim = dfj[cols].copy()\n",
    "slim.to_parquet(OUT_DIR/\"core_slim.parquet\", index=False)\n",
    "\"core_slim.parquet saved\"\n"
   ]
  }
 ],
 "metadata": {
  "kernelspec": {
   "display_name": "invoices",
   "language": "python",
   "name": "python3"
  },
  "language_info": {
   "codemirror_mode": {
    "name": "ipython",
    "version": 3
   },
   "file_extension": ".py",
   "mimetype": "text/x-python",
   "name": "python",
   "nbconvert_exporter": "python",
   "pygments_lexer": "ipython3",
   "version": "3.10.15"
  }
 },
 "nbformat": 4,
 "nbformat_minor": 5
}
